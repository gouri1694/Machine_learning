{
 "cells": [
  {
   "cell_type": "markdown",
   "metadata": {},
   "source": [
    "### Metrices in Classification"
   ]
  },
  {
   "cell_type": "markdown",
   "metadata": {},
   "source": [
    "There are 2 ways to solve classification problems\n",
    "1. Class labels\n",
    "2. Probability"
   ]
  },
  {
   "attachments": {
    "image.png": {
     "image/png": "[encoded data removed]"
    }
   },
   "cell_type": "markdown",
   "metadata": {},
   "source": [
    "![image.png](attachment:image.png)"
   ]
  },
  {
   "cell_type": "markdown",
   "metadata": {},
   "source": [
    "If dataset is balanced, metric used could be accuracy.<br>\n",
    "\n",
    "Accuracy=(TP+TN) / (TP+FP+TN+FN)<br>\n",
    "- Overall performance of model <br>\n",
    "\n",
    "Suppose in test data A:900  B:100 <br>\n",
    "Here suppose model predicted everything as class A, we get accuracy as 90%. bad meaning of model. <br>.\n"
   ]
  },
  {
   "cell_type": "markdown",
   "metadata": {},
   "source": [
    "\n",
    "If unbalanced, then we will use recall, precision, f-beta<br>\n",
    "\n",
    "Recall= TP / (TP+FN) <br>\n",
    "- Coverage of actual positive sample\n",
    "\n",
    "Precision=TP / (TP+FP) <br>\n",
    "- How accurate the positive predictions are\n",
    "- Precision is also known as positive Predicted value <br>\n"
   ]
  },
  {
   "cell_type": "markdown",
   "metadata": {},
   "source": [
    "In Spam detection, suppose mail is not a spam, but predicted as spam, in this scenario, we should try to reduce False Positive, Here Precision is useful.\n",
    "\n",
    "In Cancer detection, if he is having cancer but predicted as not having cancer, here Recall is useful."
   ]
  },
  {
   "cell_type": "markdown",
   "metadata": {},
   "source": [
    "**When FP is important use Precision <br>\n",
    "When FN is important use Recall**"
   ]
  },
  {
   "cell_type": "markdown",
   "metadata": {},
   "source": [
    "**F-Beta**\n",
    "- In some cases both FP and FN is useful, here we use F-beta <br>\n",
    "- weighted harmonic mean between precision and recall\n",
    "\n",
    "**($(1+β)^{2}$$*TP$) / ($(1+β)^{2}$$*TP$ + $β^{2}$$* FN $+ FP)** <br>\n",
    "- If FP and FN both are important then β=1\n",
    "- If FN is more important than FP then β=2\n",
    "- If FP is more important than FN then β=0.5"
   ]
  },
  {
   "cell_type": "markdown",
   "metadata": {},
   "source": [
    "### ROC curve (Receiver Operating Characteristic curve ): \n",
    "\n",
    "2-D curve parametrized by one parameter of the classification algorithm, <br>\n",
    "e.g. some threshold in the \n",
    "« true postivie rate / false positive rate » space<br>\n",
    "Its a plot of true postivie rate vs false positive rate \n",
    "\n",
    "### AUC\n",
    "The area under the ROC is between 0 and 1"
   ]
  }
 ],
 "metadata": {
  "kernelspec": {
   "display_name": "Python 3",
   "language": "python",
   "name": "python3"
  },
  "language_info": {
   "codemirror_mode": {
    "name": "ipython",
    "version": 3
   },
   "file_extension": ".py",
   "mimetype": "text/x-python",
   "name": "python",
   "nbconvert_exporter": "python",
   "pygments_lexer": "ipython3",
   "version": "3.8.5"
  }
 },
 "nbformat": 4,
 "nbformat_minor": 4
}
